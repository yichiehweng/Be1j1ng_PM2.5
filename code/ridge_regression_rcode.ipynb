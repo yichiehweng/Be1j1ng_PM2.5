{
 "cells": [
  {
   "cell_type": "code",
   "execution_count": 1,
   "metadata": {},
   "outputs": [],
   "source": [
    "#install.packages(\"MASS\")"
   ]
  },
  {
   "cell_type": "code",
   "execution_count": 2,
   "metadata": {},
   "outputs": [
    {
     "name": "stderr",
     "output_type": "stream",
     "text": [
      "Loading required package: MASS\n"
     ]
    }
   ],
   "source": [
    "require(MASS)"
   ]
  },
  {
   "cell_type": "code",
   "execution_count": 3,
   "metadata": {},
   "outputs": [],
   "source": [
    "df=read.csv(\"/home/yichiehweng/python/machineLearning/ridge_regression/Beijing_PM25/data/PRSA_data.csv\")"
   ]
  },
  {
   "cell_type": "code",
   "execution_count": 4,
   "metadata": {},
   "outputs": [
    {
     "data": {
      "text/html": [
       "<table>\n",
       "<thead><tr><th scope=col>No</th><th scope=col>year</th><th scope=col>month</th><th scope=col>day</th><th scope=col>hour</th><th scope=col>pm2.5</th><th scope=col>DEWP</th><th scope=col>TEMP</th><th scope=col>PRES</th><th scope=col>cbwd</th><th scope=col>Iws</th><th scope=col>Is</th><th scope=col>Ir</th></tr></thead>\n",
       "<tbody>\n",
       "\t<tr><td>1    </td><td>2010 </td><td>1    </td><td>1    </td><td>0    </td><td>NA   </td><td>-21  </td><td>-11  </td><td>1021 </td><td>NW   </td><td> 1.79</td><td>0    </td><td>0    </td></tr>\n",
       "\t<tr><td>2    </td><td>2010 </td><td>1    </td><td>1    </td><td>1    </td><td>NA   </td><td>-21  </td><td>-12  </td><td>1020 </td><td>NW   </td><td> 4.92</td><td>0    </td><td>0    </td></tr>\n",
       "\t<tr><td>3    </td><td>2010 </td><td>1    </td><td>1    </td><td>2    </td><td>NA   </td><td>-21  </td><td>-11  </td><td>1019 </td><td>NW   </td><td> 6.71</td><td>0    </td><td>0    </td></tr>\n",
       "\t<tr><td>4    </td><td>2010 </td><td>1    </td><td>1    </td><td>3    </td><td>NA   </td><td>-21  </td><td>-14  </td><td>1019 </td><td>NW   </td><td> 9.84</td><td>0    </td><td>0    </td></tr>\n",
       "\t<tr><td>5    </td><td>2010 </td><td>1    </td><td>1    </td><td>4    </td><td>NA   </td><td>-20  </td><td>-12  </td><td>1018 </td><td>NW   </td><td>12.97</td><td>0    </td><td>0    </td></tr>\n",
       "</tbody>\n",
       "</table>\n"
      ],
      "text/latex": [
       "\\begin{tabular}{r|lllllllllllll}\n",
       " No & year & month & day & hour & pm2.5 & DEWP & TEMP & PRES & cbwd & Iws & Is & Ir\\\\\n",
       "\\hline\n",
       "\t 1     & 2010  & 1     & 1     & 0     & NA    & -21   & -11   & 1021  & NW    &  1.79 & 0     & 0    \\\\\n",
       "\t 2     & 2010  & 1     & 1     & 1     & NA    & -21   & -12   & 1020  & NW    &  4.92 & 0     & 0    \\\\\n",
       "\t 3     & 2010  & 1     & 1     & 2     & NA    & -21   & -11   & 1019  & NW    &  6.71 & 0     & 0    \\\\\n",
       "\t 4     & 2010  & 1     & 1     & 3     & NA    & -21   & -14   & 1019  & NW    &  9.84 & 0     & 0    \\\\\n",
       "\t 5     & 2010  & 1     & 1     & 4     & NA    & -20   & -12   & 1018  & NW    & 12.97 & 0     & 0    \\\\\n",
       "\\end{tabular}\n"
      ],
      "text/markdown": [
       "\n",
       "No | year | month | day | hour | pm2.5 | DEWP | TEMP | PRES | cbwd | Iws | Is | Ir | \n",
       "|---|---|---|---|---|\n",
       "| 1     | 2010  | 1     | 1     | 0     | NA    | -21   | -11   | 1021  | NW    |  1.79 | 0     | 0     | \n",
       "| 2     | 2010  | 1     | 1     | 1     | NA    | -21   | -12   | 1020  | NW    |  4.92 | 0     | 0     | \n",
       "| 3     | 2010  | 1     | 1     | 2     | NA    | -21   | -11   | 1019  | NW    |  6.71 | 0     | 0     | \n",
       "| 4     | 2010  | 1     | 1     | 3     | NA    | -21   | -14   | 1019  | NW    |  9.84 | 0     | 0     | \n",
       "| 5     | 2010  | 1     | 1     | 4     | NA    | -20   | -12   | 1018  | NW    | 12.97 | 0     | 0     | \n",
       "\n",
       "\n"
      ],
      "text/plain": [
       "  No year month day hour pm2.5 DEWP TEMP PRES cbwd Iws   Is Ir\n",
       "1 1  2010 1     1   0    NA    -21  -11  1021 NW    1.79 0  0 \n",
       "2 2  2010 1     1   1    NA    -21  -12  1020 NW    4.92 0  0 \n",
       "3 3  2010 1     1   2    NA    -21  -11  1019 NW    6.71 0  0 \n",
       "4 4  2010 1     1   3    NA    -21  -14  1019 NW    9.84 0  0 \n",
       "5 5  2010 1     1   4    NA    -20  -12  1018 NW   12.97 0  0 "
      ]
     },
     "metadata": {},
     "output_type": "display_data"
    }
   ],
   "source": [
    "head(df,5)"
   ]
  },
  {
   "cell_type": "code",
   "execution_count": 5,
   "metadata": {},
   "outputs": [
    {
     "data": {
      "text/html": [
       "<dl class=dl-horizontal>\n",
       "\t<dt>No</dt>\n",
       "\t\t<dd>0</dd>\n",
       "\t<dt>year</dt>\n",
       "\t\t<dd>0</dd>\n",
       "\t<dt>month</dt>\n",
       "\t\t<dd>0</dd>\n",
       "\t<dt>day</dt>\n",
       "\t\t<dd>0</dd>\n",
       "\t<dt>hour</dt>\n",
       "\t\t<dd>0</dd>\n",
       "\t<dt>pm2.5</dt>\n",
       "\t\t<dd>2067</dd>\n",
       "\t<dt>DEWP</dt>\n",
       "\t\t<dd>0</dd>\n",
       "\t<dt>TEMP</dt>\n",
       "\t\t<dd>0</dd>\n",
       "\t<dt>PRES</dt>\n",
       "\t\t<dd>0</dd>\n",
       "\t<dt>cbwd</dt>\n",
       "\t\t<dd>0</dd>\n",
       "\t<dt>Iws</dt>\n",
       "\t\t<dd>0</dd>\n",
       "\t<dt>Is</dt>\n",
       "\t\t<dd>0</dd>\n",
       "\t<dt>Ir</dt>\n",
       "\t\t<dd>0</dd>\n",
       "</dl>\n"
      ],
      "text/latex": [
       "\\begin{description*}\n",
       "\\item[No] 0\n",
       "\\item[year] 0\n",
       "\\item[month] 0\n",
       "\\item[day] 0\n",
       "\\item[hour] 0\n",
       "\\item[pm2.5] 2067\n",
       "\\item[DEWP] 0\n",
       "\\item[TEMP] 0\n",
       "\\item[PRES] 0\n",
       "\\item[cbwd] 0\n",
       "\\item[Iws] 0\n",
       "\\item[Is] 0\n",
       "\\item[Ir] 0\n",
       "\\end{description*}\n"
      ],
      "text/markdown": [
       "No\n",
       ":   0year\n",
       ":   0month\n",
       ":   0day\n",
       ":   0hour\n",
       ":   0pm2.5\n",
       ":   2067DEWP\n",
       ":   0TEMP\n",
       ":   0PRES\n",
       ":   0cbwd\n",
       ":   0Iws\n",
       ":   0Is\n",
       ":   0Ir\n",
       ":   0\n",
       "\n"
      ],
      "text/plain": [
       "   No  year month   day  hour pm2.5  DEWP  TEMP  PRES  cbwd   Iws    Is    Ir \n",
       "    0     0     0     0     0  2067     0     0     0     0     0     0     0 "
      ]
     },
     "metadata": {},
     "output_type": "display_data"
    }
   ],
   "source": [
    "sapply(df, function(x) sum(is.na(x)))      "
   ]
  },
  {
   "cell_type": "code",
   "execution_count": 6,
   "metadata": {},
   "outputs": [],
   "source": [
    "f=function(x){\n",
    "\n",
    "  x<-as.numeric(as.character(x)) \n",
    "\n",
    "  x[is.na(x)] =median(x, na.rm=TRUE) \n",
    "\n",
    "  x\n",
    "\n",
    "}"
   ]
  },
  {
   "cell_type": "code",
   "execution_count": 7,
   "metadata": {},
   "outputs": [],
   "source": [
    "df[\"pm2.5\"]<-data.frame(apply(df[\"pm2.5\"],2,f))"
   ]
  },
  {
   "cell_type": "code",
   "execution_count": 8,
   "metadata": {},
   "outputs": [],
   "source": [
    "smp.size = floor(0.8*nrow(df)) "
   ]
  },
  {
   "cell_type": "code",
   "execution_count": 9,
   "metadata": {},
   "outputs": [],
   "source": [
    "set.seed(500)                     "
   ]
  },
  {
   "cell_type": "code",
   "execution_count": 10,
   "metadata": {},
   "outputs": [],
   "source": [
    "train.ind = sample(seq_len(nrow(df)), smp.size)"
   ]
  },
  {
   "cell_type": "code",
   "execution_count": 11,
   "metadata": {},
   "outputs": [],
   "source": [
    "train = df[train.ind, ]"
   ]
  },
  {
   "cell_type": "code",
   "execution_count": 12,
   "metadata": {},
   "outputs": [],
   "source": [
    "test = df[-train.ind, ] "
   ]
  },
  {
   "cell_type": "code",
   "execution_count": 13,
   "metadata": {},
   "outputs": [],
   "source": [
    "model_1 <- lm(pm2.5~ year+month+day+hour+DEWP+TEMP+PRES+Iws+Is+Ir,train)"
   ]
  },
  {
   "cell_type": "code",
   "execution_count": 14,
   "metadata": {},
   "outputs": [
    {
     "data": {
      "text/plain": [
       "\n",
       "Call:\n",
       "lm(formula = pm2.5 ~ year + month + day + hour + DEWP + TEMP + \n",
       "    PRES + Iws + Is + Ir, data = train)\n",
       "\n",
       "Residuals:\n",
       "    Min      1Q  Median      3Q     Max \n",
       "-164.83  -50.97  -15.66   31.82  878.83 \n",
       "\n",
       "Coefficients:\n",
       "              Estimate Std. Error t value Pr(>|t|)    \n",
       "(Intercept) -1.327e+03  6.005e+02  -2.210   0.0271 *  \n",
       "year         1.501e+00  2.969e-01   5.056 4.29e-07 ***\n",
       "month       -1.509e+00  1.282e-01 -11.772  < 2e-16 ***\n",
       "day          7.161e-01  4.752e-02  15.070  < 2e-16 ***\n",
       "hour         1.547e+00  6.332e-02  24.431  < 2e-16 ***\n",
       "DEWP         4.506e+00  6.014e-02  74.917  < 2e-16 ***\n",
       "TEMP        -6.323e+00  7.610e-02 -83.086  < 2e-16 ***\n",
       "PRES        -1.513e+00  7.755e-02 -19.515  < 2e-16 ***\n",
       "Iws         -2.343e-01  8.951e-03 -26.172  < 2e-16 ***\n",
       "Is          -2.756e+00  5.736e-01  -4.805 1.55e-06 ***\n",
       "Ir          -6.818e+00  2.942e-01 -23.172  < 2e-16 ***\n",
       "---\n",
       "Signif. codes:  0 ‘***’ 0.001 ‘**’ 0.01 ‘*’ 0.05 ‘.’ 0.1 ‘ ’ 1\n",
       "\n",
       "Residual standard error: 78.13 on 35048 degrees of freedom\n",
       "Multiple R-squared:  0.244,\tAdjusted R-squared:  0.2437 \n",
       "F-statistic:  1131 on 10 and 35048 DF,  p-value: < 2.2e-16\n"
      ]
     },
     "metadata": {},
     "output_type": "display_data"
    }
   ],
   "source": [
    "summary(model_1)"
   ]
  },
  {
   "cell_type": "code",
   "execution_count": 15,
   "metadata": {},
   "outputs": [
    {
     "data": {
      "text/plain": [
       "       Length Class  Mode   \n",
       "coef   1010   -none- numeric\n",
       "scales   10   -none- numeric\n",
       "Inter     1   -none- numeric\n",
       "lambda  101   -none- numeric\n",
       "ym        1   -none- numeric\n",
       "xm       10   -none- numeric\n",
       "GCV     101   -none- numeric\n",
       "kHKB      1   -none- numeric\n",
       "kLW       1   -none- numeric"
      ]
     },
     "metadata": {},
     "output_type": "display_data"
    },
    {
     "name": "stdout",
     "output_type": "stream",
     "text": [
      "modified HKB estimator is 4.508177 \n",
      "modified L-W estimator is 24.80011 \n",
      "smallest value of GCV  at 0.1 \n"
     ]
    },
    {
     "data": {
      "image/png": "[encoded data removed]",
      "text/plain": [
       "plot without title"
      ]
     },
     "metadata": {},
     "output_type": "display_data"
    }
   ],
   "source": [
    "ridge <- lm.ridge(pm2.5~ year+month+day+hour+DEWP+TEMP+PRES+Iws+Is+Ir,train, lambda = seq(0, .1, .001))\n",
    "summary(ridge)\n",
    "plot(ridge)\n",
    "select(ridge)"
   ]
  },
  {
   "cell_type": "code",
   "execution_count": 16,
   "metadata": {},
   "outputs": [
    {
     "name": "stdout",
     "output_type": "stream",
     "text": [
      "modified HKB estimator is 4.508177 \n",
      "modified L-W estimator is 24.80011 \n",
      "smallest value of GCV  at 0.1 \n"
     ]
    },
    {
     "data": {
      "image/png": "[encoded data removed]",
      "text/plain": [
       "plot without title"
      ]
     },
     "metadata": {},
     "output_type": "display_data"
    }
   ],
   "source": [
    "ridge_2 <- lm.ridge(pm2.5~ year+month+day+hour+DEWP+TEMP+PRES+Iws+Is+Ir,train, lambda = seq(0, 0.1, .01))\n",
    "plot(ridge_2)\n",
    "select(ridge_2)"
   ]
  },
  {
   "cell_type": "code",
   "execution_count": 17,
   "metadata": {},
   "outputs": [
    {
     "name": "stdout",
     "output_type": "stream",
     "text": [
      "modified HKB estimator is 4.508177 \n",
      "modified L-W estimator is 24.80011 \n",
      "smallest value of GCV  at 2 \n"
     ]
    },
    {
     "data": {
      "image/png": "[encoded data removed]",
      "text/plain": [
       "plot without title"
      ]
     },
     "metadata": {},
     "output_type": "display_data"
    }
   ],
   "source": [
    "ridge_3 <- lm.ridge(pm2.5~ year+month+day+hour+DEWP+TEMP+PRES+Iws+Is+Ir,train, lambda = seq(0, 10, 1))\n",
    "plot(ridge_3)\n",
    "select(ridge_3)"
   ]
  },
  {
   "cell_type": "code",
   "execution_count": 18,
   "metadata": {},
   "outputs": [
    {
     "data": {
      "text/plain": [
       "       Length Class  Mode   \n",
       "coef   10     -none- numeric\n",
       "scales 10     -none- numeric\n",
       "Inter   1     -none- numeric\n",
       "lambda  1     -none- numeric\n",
       "ym      1     -none- numeric\n",
       "xm     10     -none- numeric\n",
       "GCV     1     -none- numeric\n",
       "kHKB    1     -none- numeric\n",
       "kLW     1     -none- numeric"
      ]
     },
     "metadata": {},
     "output_type": "display_data"
    }
   ],
   "source": [
    "ridge.final <- lm.ridge (pm2.5~ year+month+day+hour+DEWP+TEMP+PRES+Iws+Is+Ir,train, lambda = 2)\n",
    "summary(ridge.final)"
   ]
  },
  {
   "cell_type": "code",
   "execution_count": 19,
   "metadata": {},
   "outputs": [],
   "source": [
    "test.pred = predict(model_1, test)"
   ]
  },
  {
   "cell_type": "code",
   "execution_count": 20,
   "metadata": {},
   "outputs": [],
   "source": [
    "test.ridge.pred <- as.matrix(cbind(const=1,test[,-c(1,6,10)])) %*% coef(ridge.final)"
   ]
  },
  {
   "cell_type": "code",
   "execution_count": 21,
   "metadata": {},
   "outputs": [],
   "source": [
    "mspe1=mean((test$pm2.5-test.pred)^2)"
   ]
  },
  {
   "cell_type": "code",
   "execution_count": 22,
   "metadata": {},
   "outputs": [
    {
     "data": {
      "text/html": [
       "6172.19136632568"
      ],
      "text/latex": [
       "6172.19136632568"
      ],
      "text/markdown": [
       "6172.19136632568"
      ],
      "text/plain": [
       "[1] 6172.191"
      ]
     },
     "metadata": {},
     "output_type": "display_data"
    }
   ],
   "source": [
    "mspe1"
   ]
  },
  {
   "cell_type": "code",
   "execution_count": 23,
   "metadata": {},
   "outputs": [],
   "source": [
    "mspe2=mean((test$pm2.5-test.ridge.pred)^2)"
   ]
  },
  {
   "cell_type": "code",
   "execution_count": 24,
   "metadata": {},
   "outputs": [
    {
     "data": {
      "text/html": [
       "6172.21558646592"
      ],
      "text/latex": [
       "6172.21558646592"
      ],
      "text/markdown": [
       "6172.21558646592"
      ],
      "text/plain": [
       "[1] 6172.216"
      ]
     },
     "metadata": {},
     "output_type": "display_data"
    }
   ],
   "source": [
    "mspe2"
   ]
  },
  {
   "cell_type": "code",
   "execution_count": null,
   "metadata": {},
   "outputs": [],
   "source": []
  }
 ],
 "metadata": {
  "kernelspec": {
   "display_name": "R",
   "language": "R",
   "name": "ir"
  },
  "language_info": {
   "codemirror_mode": "r",
   "file_extension": ".r",
   "mimetype": "text/x-r-source",
   "name": "R",
   "pygments_lexer": "r",
   "version": "3.4.3"
  }
 },
 "nbformat": 4,
 "nbformat_minor": 2
}
